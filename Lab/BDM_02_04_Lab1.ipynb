{
 "cells": [
  {
   "cell_type": "markdown",
   "metadata": {},
   "source": [
    "# Lab 1\n",
    "\n",
    "This lab is for practicing Python’s *generators* and the design of *streaming* algorithms in general. We’re going to a sample Citibike's data set: **citibike.csv**, which is available on NYU Classes under *Datasets*."
   ]
  },
  {
   "cell_type": "code",
   "execution_count": 1,
   "metadata": {},
   "outputs": [],
   "source": [
    "import csv\n",
    "import datetime\n",
    "import dateutil\n",
    "%matplotlib inline\n",
    "import matplotlib.pyplot as plt\n",
    "import seaborn as sns\n",
    "sns.set_style(\"whitegrid\")\n",
    "sns.set_color_codes(\"muted\")"
   ]
  },
  {
   "cell_type": "markdown",
   "metadata": {},
   "source": [
    "## Task 1\n",
    "\n",
    "Plotting the number of trips taken by hour of the day in '''citibike.csv'''. In this task, we would write a generator to convert each line of an input citibike CSV into a stream of “hour of the day” values."
   ]
  },
  {
   "cell_type": "code",
   "execution_count": 16,
   "metadata": {},
   "outputs": [],
   "source": [
    "histogram = {}\n",
    "#histogram = [0]*24\n",
    "with open('citibike.csv','r') as f:\n",
    "    reader = csv.DictReader(f) #record to see which line we are viewing\n",
    "    for record in reader:\n",
    "        #print((record['starttime'].split(' ')[1].split(':')[1]))\n",
    "        #print(dateutil.parser.parse(record['starttime']).hour)\n",
    "        hour = dateutil.parser.parse(record['starttime']).hour\n",
    "        #histogram[hour] += 1\n",
    "        histogram[hour] = histogram.get(hour, 0) + 1"
   ]
  },
  {
   "cell_type": "code",
   "execution_count": 17,
   "metadata": {},
   "outputs": [
    {
     "name": "stdout",
     "output_type": "stream",
     "text": [
      "{0: 401, 1: 248, 2: 117, 3: 89, 4: 89, 5: 293, 6: 988, 7: 2037, 8: 3668, 9: 3108, 10: 2241, 11: 2090, 12: 2289, 13: 2443, 14: 2685, 15: 2856, 16: 3471, 17: 4788, 18: 4270, 19: 2839, 20: 1844, 21: 1343, 22: 1192, 23: 811}\n"
     ]
    }
   ],
   "source": [
    "print(histogram)"
   ]
  },
  {
   "cell_type": "code",
   "execution_count": 22,
   "metadata": {},
   "outputs": [],
   "source": [
    "#define the generator\n",
    "def mygenerator(filename):\n",
    "    with open(filename,'r') as f:\n",
    "        reader = csv.DictReader(f)\n",
    "        for record in reader:\n",
    "            yield dateutil.parser.parse(record['starttime']).hour"
   ]
  },
  {
   "cell_type": "code",
   "execution_count": 23,
   "metadata": {},
   "outputs": [],
   "source": [
    "histogram = {}\n",
    "for hour in mygenerator('citibike.csv'):\n",
    "    histogram[hour] = histogram.get(hour, 0) + 1"
   ]
  },
  {
   "cell_type": "code",
   "execution_count": 24,
   "metadata": {},
   "outputs": [
    {
     "data": {
      "image/png": "[encoded data removed]",
      "text/plain": [
       "<Figure size 432x288 with 1 Axes>"
      ]
     },
     "metadata": {
      "needs_background": "light"
     },
     "output_type": "display_data"
    }
   ],
   "source": [
    "ax = sns.barplot(x=list(histogram.keys()), \n",
    "                 y=list(histogram.values()),\n",
    "                 color='b')"
   ]
  },
  {
   "cell_type": "markdown",
   "metadata": {},
   "source": [
    "## Task 2\n",
    "\n",
    "Our task is to write a generator to extract the first ride of the day from a Citibike data stream. The data stream is sorted based on starting times. The first ride of the day is interpreted as the ride with the earliest starting time of a day.\n",
    "\n",
    "We are given a template with the sample generator **firstRide**. The generator currently takes in **csv.DictReader** generator and output its first element. We need to adjust this generator to output the first ride of the day for the entire stream as specified above. The output of the generator must be in the same format as csv.DictReader. We can think of this generator as a filter only passing certain records through."
   ]
  },
  {
   "cell_type": "code",
   "execution_count": 25,
   "metadata": {},
   "outputs": [
    {
     "name": "stdout",
     "output_type": "stream",
     "text": [
      "1,,801,2015-02-01 00:00:00+00,2015-02-01 00:14:00+00,521,8 Ave & W 31 St,40.75044999,-73.99481051,423,W 54 St & 9 Ave,40.76584941,-73.98690506,17131,Subscriber,1978,2\n",
      "6442,,199,2015-02-02 00:02:00+00,2015-02-02 00:05:00+00,442,W 27 St & 7 Ave,40.746647,-73.993915,489,10 Ave & W 28 St,40.75066386,-74.00176802,20684,Subscriber,1992,1\n",
      "7901,,704,2015-02-03 00:00:00+00,2015-02-03 00:12:00+00,387,Centre St & Chambers St,40.71273266,-74.0046073,2008,Little West St & 1 Pl,40.70569254,-74.01677685,20328,Subscriber,1982,1\n",
      "12655,,146,2015-02-04 00:00:00+00,2015-02-04 00:02:00+00,237,E 11 St & 2 Ave,40.73047309,-73.98672378,438,St Marks Pl & 1 Ave,40.72779126,-73.98564945,15253,Subscriber,1969,1\n",
      "21628,,1034,2015-02-05 00:00:00+00,2015-02-05 00:17:00+00,497,E 17 St & Broadway,40.73704984,-73.99009296,461,E 20 St & 2 Ave,40.73587678,-73.98205027,20290,Subscriber,1971,1\n",
      "30836,,212,2015-02-06 00:01:00+00,2015-02-06 00:05:00+00,491,E 24 St & Park Ave S,40.74096374,-73.98602213,472,E 32 St & Park Ave,40.7457121,-73.98194829,19891,Subscriber,1989,1\n",
      "39412,,424,2015-02-07 00:00:00+00,2015-02-07 00:07:00+00,116,W 17 St & 8 Ave,40.74177603,-74.00149746,489,10 Ave & W 28 St,40.75066386,-74.00176802,19071,Subscriber,1963,1\n"
     ]
    }
   ],
   "source": [
    "### NOTE: We need to change the body of the generator firstRide\n",
    "### in order to output trip record that appeared first in each day\n",
    "### using the same dict format as csv.DictReader.\n",
    "\n",
    "def firstRide(reader):\n",
    "    prevDate = None\n",
    "    for record in reader:\n",
    "        curDate = record['starttime'].split(' ')[0]\n",
    "        if (curDate != prevDate):\n",
    "            yield record\n",
    "            prevDate = curDate\n",
    "\n",
    "### NOTE: We SHOULD NOT modify the code below. If we\n",
    "### write our firstRide generator above correctly, the\n",
    "### code below will output the correct information\n",
    "\n",
    "with open('citibike.csv', 'r') as fi:\n",
    "    reader = csv.DictReader(fi)\n",
    "    for row in firstRide(reader):\n",
    "        print(','.join(map(row.get, reader.fieldnames)))"
   ]
  },
  {
   "cell_type": "code",
   "execution_count": null,
   "metadata": {},
   "outputs": [],
   "source": []
  }
 ],
 "metadata": {
  "kernelspec": {
   "display_name": "Python 3",
   "language": "python",
   "name": "python3"
  },
  "language_info": {
   "codemirror_mode": {
    "name": "ipython",
    "version": 3
   },
   "file_extension": ".py",
   "mimetype": "text/x-python",
   "name": "python",
   "nbconvert_exporter": "python",
   "pygments_lexer": "ipython3",
   "version": "3.7.4"
  }
 },
 "nbformat": 4,
 "nbformat_minor": 2
}
