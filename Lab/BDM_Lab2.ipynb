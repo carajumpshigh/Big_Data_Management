{
 "cells": [
  {
   "cell_type": "code",
   "execution_count": 1,
   "metadata": {},
   "outputs": [],
   "source": [
    "import csv\n",
    "import sys"
   ]
  },
  {
   "cell_type": "code",
   "execution_count": 15,
   "metadata": {},
   "outputs": [
    {
     "name": "stdout",
     "output_type": "stream",
     "text": [
      "A 2 32.97\n",
      "B 2 10.98\n",
      "C 1 0.99\n",
      "D 2 27.98\n"
     ]
    }
   ],
   "source": [
    "customers = {} # Product ID -> set(string)\n",
    "revenues = {} # Product ID -> float\n",
    "\n",
    "with open(sys.argv[1], 'r') as f:\n",
    "#with open('sale_small.csv', 'r') as f:\n",
    "    reader = csv.reader(f)\n",
    "    next(reader)\n",
    "    for row in reader:\n",
    "        #print(row)\n",
    "        customers[row[3]] = customers.get(row[3], set()).union([row[0]])\n",
    "        revenues[row[3]] = revenues.get(row[3], 0) + float(row[4])\n",
    "        #break\n",
    "        \n",
    "#customers = [(k,len(v)) for k,v in customers.items()]\n",
    "#print(customers)\n",
    "\n",
    "with open(sys.argv[2], 'w') as f:\n",
    "    writer = csv.writer(f)\n",
    "    for k,v in customers.items():\n",
    "        writer.writerow([k,len(v),revenues[k]])"
   ]
  }
 ],
 "metadata": {
  "kernelspec": {
   "display_name": "Python 3",
   "language": "python",
   "name": "python3"
  },
  "language_info": {
   "codemirror_mode": {
    "name": "ipython",
    "version": 3
   },
   "file_extension": ".py",
   "mimetype": "text/x-python",
   "name": "python",
   "nbconvert_exporter": "python",
   "pygments_lexer": "ipython3",
   "version": "3.7.4"
  }
 },
 "nbformat": 4,
 "nbformat_minor": 2
}
