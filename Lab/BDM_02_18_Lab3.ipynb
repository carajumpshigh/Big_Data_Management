{
 "cells": [
  {
   "cell_type": "markdown",
   "metadata": {},
   "source": [
    "# Lab 3\n",
    "\n",
    "In this lab, we will practice Python's higher order functions, in particular, map(), filter() and reduce().\n",
    "\n",
    "\n",
    "## Task 1\n",
    "\n",
    "You are provided a list of service status updates scraped from an MTA information website. Each update may indicate <i>Good Service</i>, <i>Planned Work</i>, or <i>Delays</i> for one or more subway lines. Our first objective is to list all the lines that are running with <i>Delays</i>. To guide you through the process, we split the problem into smaller tasks."
   ]
  },
  {
   "cell_type": "code",
   "execution_count": 1,
   "metadata": {},
   "outputs": [],
   "source": [
    "from functools import reduce"
   ]
  },
  {
   "cell_type": "code",
   "execution_count": 2,
   "metadata": {},
   "outputs": [],
   "source": [
    "# This is your input data, a list of subway line status.\n",
    "# It is a list of string in a specific format\n",
    "\n",
    "status = [\n",
    "    '1,2,3 : Good Service',\n",
    "    '4,5,6 : Delays',\n",
    "    '7 : Good Service',\n",
    "    'A,C : Good Service',\n",
    "    'E : Planned Work',\n",
    "    'G : Delays',\n",
    "    'B,D,F,M : Good Service',\n",
    "    'J,Z : Delays',\n",
    "    'L : Good Service',\n",
    "    'N,Q,R : Planned Work',\n",
    "    'S : Good Service',\n",
    "]"
   ]
  },
  {
   "cell_type": "markdown",
   "metadata": {},
   "source": [
    "### Sub-Task 1\n",
    "\n",
    "Please complete the lambda expression to filter only the status updates for the lines that run with <i>Delays</i>."
   ]
  },
  {
   "cell_type": "code",
   "execution_count": 7,
   "metadata": {},
   "outputs": [
    {
     "data": {
      "text/plain": [
       "['4,5,6 : Delays', 'G : Delays', 'J,Z : Delays']"
      ]
     },
     "execution_count": 7,
     "metadata": {},
     "output_type": "execute_result"
    }
   ],
   "source": [
    "delayUpdates = list(filter(lambda x: 'Delays' in x, status))\n",
    "delayUpdates"
   ]
  },
  {
   "cell_type": "markdown",
   "metadata": {},
   "source": [
    "### Sub-Task 2\n",
    "\n",
    "Please complete the lambda expression below to convert each status line into a list of subway lines, i.e. <b><i>'4,5,6 : Delays'</i></b> would become <b><i>['4','5','6']</i></b>"
   ]
  },
  {
   "cell_type": "code",
   "execution_count": 9,
   "metadata": {},
   "outputs": [
    {
     "data": {
      "text/plain": [
       "[['4', '5', '6'], ['G'], ['J', 'Z']]"
      ]
     },
     "execution_count": 9,
     "metadata": {},
     "output_type": "execute_result"
    }
   ],
   "source": [
    "delayLineList = list(map(lambda x: x.split(' :')[0].split(','), delayUpdates))\n",
    "delayLineList"
   ]
  },
  {
   "cell_type": "markdown",
   "metadata": {},
   "source": [
    "### Sub-Task 3\n",
    "\n",
    "Please complete the reduce command below to convert each the list of subway lists given in <i>delayLineList</i> into a single list of subway lines running with delay."
   ]
  },
  {
   "cell_type": "code",
   "execution_count": 19,
   "metadata": {},
   "outputs": [
    {
     "data": {
      "text/plain": [
       "['4', '5', '6', 'G', 'J', 'Z']"
      ]
     },
     "execution_count": 19,
     "metadata": {},
     "output_type": "execute_result"
    }
   ],
   "source": [
    "delayLines = reduce(lambda x,y: x+y, delayLineList)\n",
    "#delayLines = reduce(lambda x,y: x+y, delayLineList, ['X']) # X can be identified as the initial\n",
    "delayLines"
   ]
  },
  {
   "cell_type": "markdown",
   "metadata": {},
   "source": [
    "### Sub-Task 4\n",
    "\n",
    "Please complete the reduce command below to count the number of lines in <b>delayLines</b>."
   ]
  },
  {
   "cell_type": "code",
   "execution_count": 22,
   "metadata": {},
   "outputs": [
    {
     "data": {
      "text/plain": [
       "6"
      ]
     },
     "execution_count": 22,
     "metadata": {},
     "output_type": "execute_result"
    }
   ],
   "source": [
    "delayLineCnt = reduce(lambda x,y: x+1,\n",
    "                    delayLines, 0)\n",
    "delayLineCnt"
   ]
  },
  {
   "cell_type": "markdown",
   "metadata": {},
   "source": [
    "## Task 2\n",
    "\n",
    "In this excercise, we would like to expand the combined service updates into separate updates for each subway line. For example, instead of having a single line <b>'1,2,3 : Good Service'</b> to indicate that line 1, 2, and 3 are in good service, we would like to convert that into 3 separate updates: <b>'1 : Good Service'</b>, <b>'2 : Good Service'</b>, and <b>'3 : Good Service'</b>.\n",
    "\n",
    "You are tasked to write a chain of map(), filter(), and/or reduce() to convert the <b>status</b> variable into a list like below:"
   ]
  },
  {
   "cell_type": "raw",
   "metadata": {},
   "source": [
    "['1 : Good Service',\n",
    " '2 : Good Service',\n",
    " '3 : Good Service',\n",
    " '4 : Delays',\n",
    " '5 : Delays',\n",
    " '6 : Delays',\n",
    " '7 : Good Service',\n",
    " 'A : Good Service',\n",
    " 'C : Good Service',\n",
    " 'E : Planned Work',\n",
    " 'G : Delays',\n",
    " 'B : Good Service',\n",
    " 'D : Good Service',\n",
    " 'F : Good Service',\n",
    " 'M : Good Service',\n",
    " 'J : Delays',\n",
    " 'Z : Delays',\n",
    " 'L : Good Service',\n",
    " 'N : Planned Work',\n",
    " 'Q : Planned Work',\n",
    " 'R : Planned Work',\n",
    " 'S : Good Service']"
   ]
  },
  {
   "cell_type": "markdown",
   "metadata": {},
   "source": [
    "Please note that you may only use higher order functions without access to global variables. Your expression should contain only map(), filter() and/or reduce() and your custom function definitions."
   ]
  },
  {
   "cell_type": "code",
   "execution_count": 23,
   "metadata": {},
   "outputs": [
    {
     "data": {
      "text/plain": [
       "['1,2,3 : Good Service', '4,5,6 : Delays']"
      ]
     },
     "execution_count": 23,
     "metadata": {},
     "output_type": "execute_result"
    }
   ],
   "source": [
    "status[:2]"
   ]
  },
  {
   "cell_type": "code",
   "execution_count": 38,
   "metadata": {},
   "outputs": [
    {
     "data": {
      "text/plain": [
       "['1 : Good Service',\n",
       " '2 : Good Service',\n",
       " '3 : Good Service',\n",
       " '4 : Delays',\n",
       " '5 : Delays',\n",
       " '6 : Delays',\n",
       " '7 : Good Service',\n",
       " 'A : Good Service',\n",
       " 'C : Good Service',\n",
       " 'E : Planned Work',\n",
       " 'G : Delays',\n",
       " 'B : Good Service',\n",
       " 'D : Good Service',\n",
       " 'F : Good Service',\n",
       " 'M : Good Service',\n",
       " 'J : Delays',\n",
       " 'Z : Delays',\n",
       " 'L : Good Service',\n",
       " 'N : Planned Work',\n",
       " 'Q : Planned Work',\n",
       " 'R : Planned Work',\n",
       " 'S : Good Service']"
      ]
     },
     "execution_count": 38,
     "metadata": {},
     "output_type": "execute_result"
    }
   ],
   "source": [
    "#method 1\n",
    "def mapper(x):\n",
    "    s = x.split(' : ')\n",
    "    lines = s[0].split(',')\n",
    "    status = s[1]\n",
    "    #print(lines, status)\n",
    "    return [' : '.join([line, status]) for line in lines]\n",
    "\n",
    "\n",
    "#updates = list(map(mapper,status))\n",
    "updates = list(reduce(lambda x,y:x+y, map(mapper,status), []))\n",
    "\n",
    "# The expected value of updates is the list shown above\n",
    "updates"
   ]
  },
  {
   "cell_type": "code",
   "execution_count": 51,
   "metadata": {},
   "outputs": [
    {
     "data": {
      "text/plain": [
       "{'1': 'Good Service',\n",
       " '2': 'Good Service',\n",
       " '3': 'Good Service',\n",
       " '4': 'Delays',\n",
       " '5': 'Delays',\n",
       " '6': 'Delays',\n",
       " '7': 'Good Service',\n",
       " 'A': 'Good Service',\n",
       " 'C': 'Good Service',\n",
       " 'E': 'Planned Work',\n",
       " 'G': 'Delays',\n",
       " 'B': 'Good Service',\n",
       " 'D': 'Good Service',\n",
       " 'F': 'Good Service',\n",
       " 'M': 'Good Service',\n",
       " 'J': 'Delays',\n",
       " 'Z': 'Delays',\n",
       " 'L': 'Good Service',\n",
       " 'N': 'Planned Work',\n",
       " 'Q': 'Planned Work',\n",
       " 'R': 'Planned Work',\n",
       " 'S': 'Good Service'}"
      ]
     },
     "execution_count": 51,
     "metadata": {},
     "output_type": "execute_result"
    }
   ],
   "source": [
    "#method 2\n",
    "def mapper(x):\n",
    "    s = x.split(' : ')\n",
    "    lines = s[0].split(',')\n",
    "    status = s[1]\n",
    "    #print(lines, status)\n",
    "    return dict([(line, status) for line in lines])\n",
    "\n",
    "\n",
    "updates = list(map(mapper,status))\n",
    "updates = reduce(lambda x,y:{**x,**y}, map(mapper,status))\n",
    "\n",
    "# The expected value of updates is the list shown above\n",
    "updates"
   ]
  },
  {
   "cell_type": "markdown",
   "metadata": {},
   "source": [
    "## Task 3\n",
    "\n",
    "We would like to write an HOF expression to count the total number of trip activities involved each station. For example, if a rider starts a trip at station A and ends at station B, each station A and B will receive +1 count for  the trip. The output must be tuples, each consisting of a station name and a total count. A portion of the expected output are included below."
   ]
  },
  {
   "cell_type": "code",
   "execution_count": 48,
   "metadata": {},
   "outputs": [
    {
     "data": {
      "text/plain": [
       "[('1 Ave & E 15 St', 795),\n",
       " ('1 Ave & E 44 St', 219),\n",
       " ('10 Ave & W 28 St', 422),\n",
       " ('11 Ave & W 27 St', 354),\n",
       " ('11 Ave & W 41 St', 461),\n",
       " ('11 Ave & W 59 St', 242),\n",
       " ('12 Ave & W 40 St', 217),\n",
       " ('2 Ave & E 31 St', 588),\n",
       " ('2 Ave & E 58 St', 125),\n",
       " ('3 Ave & Schermerhorn St', 34)]"
      ]
     },
     "execution_count": 48,
     "metadata": {},
     "output_type": "execute_result"
    }
   ],
   "source": [
    "import csv\n",
    "\n",
    "\n",
    "class MRTask3(MRJob):\n",
    "    def mapper1(self, _, data):\n",
    "        yield data['start_station_name'], 1\n",
    "        yield data['end_station_name'], 1\n",
    "    \n",
    "    def reducer1(self, station_name, ones):\n",
    "        yield station_name, sum(ones)\n",
    "\n",
    "    def steps(self):\n",
    "        return[\n",
    "            MRStep(mapper=self.mapper1,\n",
    "                  reducer=self.reducer1)\n",
    "        ]\n",
    "\n",
    "with open('citibike.csv', 'r') as fi:\n",
    "    reader = csv.DictReader(fi)\n",
    "    output1 = list(mr.runJob(enumerate(reader),\n",
    "                            MRTask3(args=[])))\n",
    "\n",
    "output1[:10]"
   ]
  },
  {
   "cell_type": "markdown",
   "metadata": {},
   "source": [
    "## Task 4\n",
    "\n",
    "We would like to count the number of trips taken between pairs of stations. Trips taken from station A to station B or  from station B to station A are both counted towards the station pair A and B. *Please note that the station pair should be identified by station names, as a tuple, and **in lexical order**, i.e. **(A,B)** instead of ~~(B,A)~~ in this case*. The output must be tuples, each consisting of the station pair identification and a count. A portion of the expected output are included below. Please provide your HOF expression."
   ]
  },
  {
   "cell_type": "code",
   "execution_count": 50,
   "metadata": {},
   "outputs": [
    {
     "data": {
      "text/plain": [
       "[(('1 Ave & E 15 St', '1 Ave & E 15 St'), 5),\n",
       " (('1 Ave & E 15 St', '1 Ave & E 44 St'), 6),\n",
       " (('1 Ave & E 15 St', '11 Ave & W 27 St'), 1),\n",
       " (('1 Ave & E 15 St', '2 Ave & E 31 St'), 9),\n",
       " (('1 Ave & E 15 St', '5 Ave & E 29 St'), 2),\n",
       " (('1 Ave & E 15 St', '6 Ave & Broome St'), 3),\n",
       " (('1 Ave & E 15 St', '6 Ave & Canal St'), 1),\n",
       " (('1 Ave & E 15 St', '8 Ave & W 31 St'), 5),\n",
       " (('1 Ave & E 15 St', '9 Ave & W 14 St'), 3),\n",
       " (('1 Ave & E 15 St', '9 Ave & W 16 St'), 3)]"
      ]
     },
     "execution_count": 50,
     "metadata": {},
     "output_type": "execute_result"
    }
   ],
   "source": [
    "class MRTask4(MRJob):\n",
    "    def mapper1(self, _, data):\n",
    "        if data['start_station_name']<data['end_station_name']:\n",
    "            yield (data['start_station_name'], data['end_station_name']), 1\n",
    "        else:\n",
    "            yield (data['end_station_name'], data['start_station_name']), 1    \n",
    "    \n",
    "    def reducer1(self, pair, ones):\n",
    "        yield pair, sum(ones)\n",
    "        \n",
    "    def steps(self):\n",
    "        return[\n",
    "            MRStep(mapper=self.mapper1,\n",
    "                  reducer=self.reducer1),\n",
    "        ]\n",
    "\n",
    "\n",
    "with open('citibike.csv', 'r') as fi:\n",
    "    reader = csv.DictReader(fi)\n",
    "    output3 = list(mr.runJob(enumerate(reader),\n",
    "                            MRTask4(args=[])))\n",
    "\n",
    "output3[:10]"
   ]
  },
  {
   "cell_type": "markdown",
   "metadata": {},
   "source": [
    "## Task 5\n",
    "\n",
    "In this task, you are asked to compute the station with the most riders started from, per each gender of the *'Subscriber'* user. Meaning, what was the station name with the highest number of bike pickups for female riders, for male riders and for unknown riders.\n",
    "\n",
    "The output will be a list of tuples, each includes a gender label (as indicated below) and another tuple consisting of a station name, and the total number of trips started at that station for that gender. The expected output are included below. Please provide your HOF expression below.\n",
    "\n",
    "The label mapping for the gender column in citibike.csv is: (Zero=**Unknown**; 1=**Male**; 2=**Female**)"
   ]
  },
  {
   "cell_type": "code",
   "execution_count": 56,
   "metadata": {},
   "outputs": [
    {
     "data": {
      "text/plain": [
       "[('Female', ('W 21 St & 6 Ave', 107)),\n",
       " ('Male', ('8 Ave & W 31 St', 488)),\n",
       " ('Unknown', ('Catherine St & Monroe St', 1))]"
      ]
     },
     "execution_count": 56,
     "metadata": {},
     "output_type": "execute_result"
    }
   ],
   "source": [
    "class MRTask5(MRJob):\n",
    "    def mapper1(self, _, data):\n",
    "        if data['usertype']=='Subscriber':\n",
    "            yield (data['gender'], data['start_station_name']), 1\n",
    "    \n",
    "    def reducer1(self, gender_station, ones):\n",
    "        yield gender_station, sum(ones)\n",
    "    \n",
    "    def mapper2(self, gender_station, count):\n",
    "        if gender_station[0]=='0':\n",
    "            yield 'Unknown', (gender_station[1], count)\n",
    "        elif gender_station[0]=='1':\n",
    "            yield 'Male', (gender_station[1], count)\n",
    "        else:\n",
    "            yield 'Female', (gender_station[1], count)\n",
    "        \n",
    "    def reducer2(self, gender, values):\n",
    "        yield gender, max(values, key=lambda x: x[1])\n",
    "        \n",
    "    def steps(self):\n",
    "        return[\n",
    "            MRStep(mapper=self.mapper1,\n",
    "                  reducer=self.reducer1),\n",
    "            MRStep(mapper=self.mapper2,\n",
    "                  reducer=self.reducer2),\n",
    "        ]\n",
    "\n",
    "\n",
    "with open('citibike.csv', 'r') as fi:\n",
    "    reader = csv.DictReader(fi)\n",
    "    output5 = list(mr.runJob(enumerate(reader),\n",
    "                            MRTask5(args=[])))\n",
    "\n",
    "output5"
   ]
  },
  {
   "cell_type": "code",
   "execution_count": null,
   "metadata": {},
   "outputs": [],
   "source": []
  },
  {
   "cell_type": "code",
   "execution_count": null,
   "metadata": {},
   "outputs": [],
   "source": []
  },
  {
   "cell_type": "code",
   "execution_count": 7,
   "metadata": {},
   "outputs": [],
   "source": [
    "#reload changes\n",
    "import importlib\n",
    "import mr_word_count\n",
    "importlib.reload(mr_word_count)\n",
    "\n",
    "#import self-defined function file\n",
    "from mr_word_count import MRWordFrequencyCount\n",
    "job = MRWordFrequencyCount(args=['book.txt'])"
   ]
  },
  {
   "cell_type": "code",
   "execution_count": 8,
   "metadata": {},
   "outputs": [
    {
     "name": "stderr",
     "output_type": "stream",
     "text": [
      "No configs specified for inline runner\n"
     ]
    },
    {
     "name": "stdout",
     "output_type": "stream",
     "text": [
      "b'\"words\"\\t38538\\n'\n",
      "b''\n",
      "b'\"lines\"\\t5877\\n'\n",
      "b''\n",
      "b'\"chars\"\\t246432\\n'\n"
     ]
    }
   ],
   "source": [
    "with job.make_runner() as runner:\n",
    "    runner.run()\n",
    "    for line in runner.cat_output():\n",
    "        print(line)"
   ]
  },
  {
   "cell_type": "code",
   "execution_count": 9,
   "metadata": {},
   "outputs": [
    {
     "name": "stdout",
     "output_type": "stream",
     "text": [
      "\"words\"\t38538\r\n",
      "\"lines\"\t5877\r\n",
      "\"chars\"\t246432\r\n"
     ]
    }
   ],
   "source": [
    "!python mr_word_count.py book.txt 2>/dev/null"
   ]
  },
  {
   "cell_type": "code",
   "execution_count": 10,
   "metadata": {},
   "outputs": [
    {
     "data": {
      "text/plain": [
       "[('\"', 145),\n",
       " ('\"defects,\"', 1),\n",
       " ('\"information', 1),\n",
       " ('\"plain', 2),\n",
       " ('\"project', 5),\n",
       " ('\"right', 1),\n",
       " ('#51302]', 1),\n",
       " ('$5,000)', 1),\n",
       " ('&', 3),\n",
       " (\"'as-is',\", 1)]"
      ]
     },
     "execution_count": 10,
     "metadata": {},
     "output_type": "execute_result"
    }
   ],
   "source": [
    "from mrjob.job import MRJob\n",
    "import mapreduce as mr\n",
    "\n",
    "\n",
    "class MRWordFrequencyCount(MRJob):\n",
    "\n",
    "    def mapper(self, _, line):\n",
    "        for word in line.split():\n",
    "            yield word.lower(), 1\n",
    "        #yield \"words\", len(line.split())\n",
    "\n",
    "    def reducer(self, key, values):\n",
    "        yield key, sum(values)\n",
    "\n",
    "#job = MRWordFrequencyCount(args=['book.txt'])\n",
    "job = MRWordFrequencyCount(args=[])\n",
    "\n",
    "#list(mr.runJob(enumerate(open('book.txt','r')),job))\n",
    "counts = list(mr.runJob(enumerate(open('book.txt','r',encoding='utf8')),\n",
    "                        job))\n",
    "counts[:10]"
   ]
  },
  {
   "cell_type": "code",
   "execution_count": 6,
   "metadata": {},
   "outputs": [
    {
     "name": "stdout",
     "output_type": "stream",
     "text": [
      "[10, 11, 12, 13, 14, 15, 16, 17, 18, 19]\n",
      "[(0, 10), (1, 11), (2, 12), (3, 13), (4, 14), (5, 15), (6, 16), (7, 17), (8, 18), (9, 19)]\n"
     ]
    }
   ],
   "source": [
    "#e.g. for enumerate\n",
    "print(list(range(10,20)))\n",
    "print(list(enumerate(range(10,20))))"
   ]
  },
  {
   "cell_type": "code",
   "execution_count": 27,
   "metadata": {},
   "outputs": [
    {
     "data": {
      "text/plain": [
       "[(None, ('the', 2427))]"
      ]
     },
     "execution_count": 27,
     "metadata": {},
     "output_type": "execute_result"
    }
   ],
   "source": [
    "from mrjob.job import MRJob\n",
    "import mapreduce as mr\n",
    "\n",
    "\n",
    "class MRWordMostCount(MRJob):\n",
    "\n",
    "    def mapper(self, word, count):\n",
    "        #send all the value to a None key, so as to look everything as a whole\n",
    "        yield None, (word, count)\n",
    "        \n",
    "    def reducer(self, key, values):\n",
    "        yield (key, max(values, key=lambda x: x[1]))\n",
    "        \n",
    "\n",
    "MostCount = list(mr.runJob(counts, MRWordMostCount(args=[])))\n",
    "MostCount"
   ]
  },
  {
   "cell_type": "code",
   "execution_count": 24,
   "metadata": {},
   "outputs": [
    {
     "data": {
      "text/plain": [
       "[(None, ('the', 2427))]"
      ]
     },
     "execution_count": 24,
     "metadata": {},
     "output_type": "execute_result"
    }
   ],
   "source": [
    "from mrjob.job import MRJob\n",
    "import mapreduce as mr\n",
    "\n",
    "\n",
    "class MRWordMostCount(MRJob):\n",
    "\n",
    "    def mapper(self, word, count):\n",
    "        #send all the value to a None key, so as to look everything as a whole\n",
    "        yield None, (word, count)\n",
    "        \n",
    "    def combiner(self, key, values):\n",
    "        yield (key, max(values, key=lambda x: x[1]))\n",
    "        \n",
    "    def reducer(self, key, values):\n",
    "        yield (key, max(values, key=lambda x: x[1]))\n",
    "\n",
    "\n",
    "MostCount = list(mr.runJob(counts, MRWordMostCount(args=[])))\n",
    "MostCount"
   ]
  },
  {
   "cell_type": "code",
   "execution_count": 30,
   "metadata": {},
   "outputs": [
    {
     "data": {
      "text/plain": [
       "[(None, ('the', 2427))]"
      ]
     },
     "execution_count": 30,
     "metadata": {},
     "output_type": "execute_result"
    }
   ],
   "source": [
    "#Multi-steps MR\n",
    "from mrjob.job import MRJob, MRStep\n",
    "import mapreduce as mr\n",
    "\n",
    "\n",
    "class MRWordFrequencyCount(MRJob):\n",
    "\n",
    "    def mapper1(self, _, line):\n",
    "        for word in line.split():\n",
    "            yield word.lower(), 1\n",
    "        \n",
    "    def reducer1(self, key, values):\n",
    "        yield (key, sum(values))\n",
    "    \n",
    "    def mapper2(self, word, count):\n",
    "        yield None, (word, count)\n",
    "    \n",
    "    #use combiner to prevent the memory exploding\n",
    "    def combiner2(self, key, values):\n",
    "        yield (key, max(values, key=lambda x: x[1]))\n",
    "        \n",
    "    def reducer2(self, key, values):\n",
    "        yield (key, max(values, key=lambda x: x[1]))\n",
    "    \n",
    "    def steps(self):\n",
    "        return[\n",
    "            MRStep(mapper=self.mapper1,\n",
    "                  reducer=self.reducer1),\n",
    "            MRStep(mapper=self.mapper2,\n",
    "                   combiner = self.combiner2,\n",
    "                  reducer=self.reducer2),\n",
    "        ]\n",
    "\n",
    "\n",
    "count1 = list(mr.runJob(enumerate(open('book.txt','r',encoding='utf8')),\n",
    "                        MRWordFrequencyCount(args=[])))\n",
    "count1"
   ]
  }
 ],
 "metadata": {
  "kernelspec": {
   "display_name": "Python 3",
   "language": "python",
   "name": "python3"
  },
  "language_info": {
   "codemirror_mode": {
    "name": "ipython",
    "version": 3
   },
   "file_extension": ".py",
   "mimetype": "text/x-python",
   "name": "python",
   "nbconvert_exporter": "python",
   "pygments_lexer": "ipython3",
   "version": "3.7.4"
  }
 },
 "nbformat": 4,
 "nbformat_minor": 1
}
