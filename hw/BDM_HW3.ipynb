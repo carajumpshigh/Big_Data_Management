{
 "cells": [
  {
   "cell_type": "code",
   "execution_count": 1,
   "metadata": {},
   "outputs": [],
   "source": [
    "from pyspark import SparkContext"
   ]
  },
  {
   "cell_type": "code",
   "execution_count": 2,
   "metadata": {},
   "outputs": [],
   "source": [
    "sc = SparkContext()"
   ]
  },
  {
   "cell_type": "code",
   "execution_count": 9,
   "metadata": {},
   "outputs": [],
   "source": [
    "input = 'complaints.csv'#sys.argv[1]\n",
    "output_folder = '/output.txt'#sys.argv[2]"
   ]
  },
  {
   "cell_type": "code",
   "execution_count": 4,
   "metadata": {},
   "outputs": [],
   "source": [
    "cpl = sc.textFile(input, use_unicode=True).cache()"
   ]
  },
  {
   "cell_type": "code",
   "execution_count": 31,
   "metadata": {},
   "outputs": [],
   "source": [
    "def mapper(partitionId, records):\n",
    "    if partitionId == 0:\n",
    "        next(records)\n",
    "    import csv\n",
    "    reader = csv.reader(records,delimiter=',',quotechar='\"')\n",
    "    for r in reader:\n",
    "        if len(r)>7 and type(r[0])==str and len(r[0])==10 and r[0][0]==('2'or'1'):\n",
    "            yield r[0][0:4], \\\n",
    "                    r[1].lower().replace('\"', \"'\") if ',' in r[1] else r[1].lower(), \\\n",
    "                    r[7].lower()"
   ]
  },
  {
   "cell_type": "code",
   "execution_count": 32,
   "metadata": {},
   "outputs": [
    {
     "data": {
      "text/plain": [
       "[(('bank account or service', '2012'), (12212, 98, 19)),\n",
       " (('bank account or service', '2013'), (13388, 164, 18)),\n",
       " (('bank account or service', '2014'), (14662, 258, 17)),\n",
       " (('bank account or service', '2015'), (17140, 215, 17)),\n",
       " (('bank account or service', '2016'), (21848, 230, 15)),\n",
       " (('bank account or service', '2017'), (6956, 174, 16)),\n",
       " (('checking or savings account', '2017'), (12763, 183, 17)),\n",
       " (('checking or savings account', '2018'), (21211, 214, 16)),\n",
       " (('checking or savings account', '2019'), (21740, 253, 15)),\n",
       " (('checking or savings account', '2020'), (4743, 166, 16)),\n",
       " (('consumer loan', '2012'), (1986, 84, 19)),\n",
       " (('consumer loan', '2013'), (3117, 159, 12)),\n",
       " (('consumer loan', '2014'), (5457, 358, 8)),\n",
       " (('consumer loan', '2015'), (7886, 599, 9)),\n",
       " (('consumer loan', '2016'), (9601, 665, 7)),\n",
       " (('consumer loan', '2017'), (3557, 425, 8)),\n",
       " (('credit card', '2011'), (1260, 33, 19)),\n",
       " (('credit card', '2012'), (15353, 76, 20)),\n",
       " (('credit card', '2013'), (13105, 108, 19)),\n",
       " (('credit card', '2014'), (13974, 178, 17)),\n",
       " (('credit card', '2015'), (17300, 225, 17)),\n",
       " (('credit card', '2016'), (21065, 221, 21)),\n",
       " (('credit card', '2017'), (7133, 127, 18)),\n",
       " (('credit card or prepaid card', '2017'), (15404, 170, 15)),\n",
       " (('credit card or prepaid card', '2018'), (24248, 252, 15)),\n",
       " (('credit card or prepaid card', '2019'), (25833, 245, 15)),\n",
       " (('credit card or prepaid card', '2020'), (6385, 137, 17)),\n",
       " (('credit reporting', '2012'), (1873, 31, 38)),\n",
       " (('credit reporting', '2013'), (14380, 203, 36)),\n",
       " (('credit reporting', '2014'), (29239, 214, 35)),\n",
       " (('credit reporting', '2015'), (34272, 237, 35)),\n",
       " (('credit reporting', '2016'), (44081, 182, 36)),\n",
       " (('credit reporting', '2017'), (16587, 403, 30)),\n",
       " (('credit reporting, credit repair services, or other personal consumer reports',\n",
       "   '2017'),\n",
       "  (73394, 1020, 35)),\n",
       " (('credit reporting, credit repair services, or other personal consumer reports',\n",
       "   '2018'),\n",
       "  (111625, 1307, 26)),\n",
       " (('credit reporting, credit repair services, or other personal consumer reports',\n",
       "   '2019'),\n",
       "  (138595, 1334, 29)),\n",
       " (('credit reporting, credit repair services, or other personal consumer reports',\n",
       "   '2020'),\n",
       "  (41732, 687, 31)),\n",
       " (('debt collection', '2013'), (11069, 984, 9)),\n",
       " (('debt collection', '2014'), (39139, 1756, 6)),\n",
       " (('debt collection', '2015'), (39723, 2136, 5)),\n",
       " (('debt collection', '2016'), (40467, 2135, 4)),\n",
       " (('debt collection', '2017'), (47954, 2240, 4)),\n",
       " (('debt collection', '2018'), (51185, 2250, 5)),\n",
       " (('debt collection', '2019'), (46403, 2121, 4)),\n",
       " (('debt collection', '2020'), (10894, 1275, 4)),\n",
       " (('money transfer, virtual currency, or money service', '2017'),\n",
       "  (3266, 178, 32)),\n",
       " (('money transfer, virtual currency, or money service', '2018'),\n",
       "  (5433, 235, 30)),\n",
       " (('money transfer, virtual currency, or money service', '2019'),\n",
       "  (5087, 265, 26)),\n",
       " (('money transfer, virtual currency, or money service', '2020'),\n",
       "  (1095, 126, 20)),\n",
       " (('money transfers', '2013'), (559, 58, 30)),\n",
       " (('money transfers', '2014'), (1169, 67, 32)),\n",
       " (('money transfers', '2015'), (1619, 79, 32)),\n",
       " (('money transfers', '2016'), (1566, 80, 25)),\n",
       " (('money transfers', '2017'), (440, 46, 27)),\n",
       " (('mortgage', '2011'), (1276, 66, 33)),\n",
       " (('mortgage', '2012'), (38109, 382, 31)),\n",
       " (('mortgage', '2013'), (49400, 454, 25)),\n",
       " (('mortgage', '2014'), (42961, 495, 14)),\n",
       " (('mortgage', '2015'), (42344, 680, 12)),\n",
       " (('mortgage', '2016'), (41466, 766, 14)),\n",
       " (('mortgage', '2017'), (30577, 772, 12)),\n",
       " (('mortgage', '2018'), (24576, 702, 12)),\n",
       " (('mortgage', '2019'), (22708, 672, 9)),\n",
       " (('mortgage', '2020'), (5038, 351, 8)),\n",
       " (('other financial service', '2014'), (116, 38, 12)),\n",
       " (('other financial service', '2015'), (312, 99, 10)),\n",
       " (('other financial service', '2016'), (465, 154, 5)),\n",
       " (('other financial service', '2017'), (166, 76, 7)),\n",
       " (('payday loan', '2013'), (194, 31, 13)),\n",
       " (('payday loan', '2014'), (1706, 159, 17)),\n",
       " (('payday loan', '2015'), (1585, 243, 8)),\n",
       " (('payday loan', '2016'), (1565, 213, 17)),\n",
       " (('payday loan', '2017'), (493, 107, 12)),\n",
       " (('payday loan, title loan, or personal loan', '2017'), (2958, 392, 6)),\n",
       " (('payday loan, title loan, or personal loan', '2018'), (4368, 470, 5)),\n",
       " (('payday loan, title loan, or personal loan', '2019'), (4323, 483, 4)),\n",
       " (('payday loan, title loan, or personal loan', '2020'), (923, 250, 6)),\n",
       " (('prepaid card', '2014'), (336, 29, 22)),\n",
       " (('prepaid card', '2015'), (1784, 48, 42)),\n",
       " (('prepaid card', '2016'), (1250, 51, 21)),\n",
       " (('prepaid card', '2017'), (449, 30, 19)),\n",
       " (('student loan', '2012'), (2840, 53, 42)),\n",
       " (('student loan', '2013'), (3005, 91, 46)),\n",
       " (('student loan', '2014'), (4283, 137, 44)),\n",
       " (('student loan', '2015'), (4501, 171, 37)),\n",
       " (('student loan', '2016'), (8087, 231, 34)),\n",
       " (('student loan', '2017'), (17173, 231, 63)),\n",
       " (('student loan', '2018'), (8776, 200, 46)),\n",
       " (('student loan', '2019'), (7212, 192, 41)),\n",
       " (('student loan', '2020'), (1353, 110, 33)),\n",
       " (('vehicle loan or lease', '2017'), (3694, 249, 13)),\n",
       " (('vehicle loan or lease', '2018'), (5892, 315, 12)),\n",
       " (('vehicle loan or lease', '2019'), (5489, 324, 12)),\n",
       " (('vehicle loan or lease', '2020'), (1258, 158, 11)),\n",
       " (('virtual currency', '2014'), (1, 1, 100)),\n",
       " (('virtual currency', '2015'), (7, 1, 100)),\n",
       " (('virtual currency', '2016'), (7, 2, 57)),\n",
       " (('virtual currency', '2017'), (3, 1, 100))]"
      ]
     },
     "execution_count": 32,
     "metadata": {},
     "output_type": "execute_result"
    }
   ],
   "source": [
    "cpl.mapPartitionsWithIndex(mapper) \\\n",
    "    .map(lambda x: ((x[1],x[0],x[2]),1)) \\\n",
    "    .reduceByKey(lambda x,y: x+y) \\\n",
    "    .map(lambda x: ((x[0][0],x[0][1]),(x[1],1,x[1]))) \\\n",
    "    .reduceByKey(lambda x,y: (x[0]+y[0], x[1]+y[1], max(x[2],y[2]))) \\\n",
    "    .mapValues(lambda x: (x[0],x[1], round(x[2]/x[0]*100))) \\\n",
    "    .sortByKey() \\\n",
    "    .collect()\n",
    "    #.saveAsTextFile(output_folder)"
   ]
  }
 ],
 "metadata": {
  "kernelspec": {
   "display_name": "Python 3",
   "language": "python",
   "name": "python3"
  },
  "language_info": {
   "codemirror_mode": {
    "name": "ipython",
    "version": 3
   },
   "file_extension": ".py",
   "mimetype": "text/x-python",
   "name": "python",
   "nbconvert_exporter": "python",
   "pygments_lexer": "ipython3",
   "version": "3.7.4"
  }
 },
 "nbformat": 4,
 "nbformat_minor": 2
}
